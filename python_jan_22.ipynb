{
  "nbformat": 4,
  "nbformat_minor": 0,
  "metadata": {
    "colab": {
      "name": "python jan 22.ipynb",
      "provenance": []
    },
    "kernelspec": {
      "name": "python3",
      "display_name": "Python 3"
    },
    "language_info": {
      "name": "python"
    }
  },
  "cells": [
    {
      "cell_type": "code",
      "execution_count": 1,
      "metadata": {
        "id": "NqZLZLqdgEyP",
        "colab": {
          "base_uri": "https://localhost:8080/"
        },
        "outputId": "c45d1d92-834d-4ebf-e90b-0b9e6d97be79"
      },
      "outputs": [
        {
          "output_type": "stream",
          "name": "stdout",
          "text": [
            "enter the integer values :- 10 20 45 26 45\n",
            "146\n"
          ]
        }
      ],
      "source": [
        "\n",
        "x = [int(i) for i in input(\"enter the integer values :- \").split()]\n",
        "print(sum(x))"
      ]
    },
    {
      "cell_type": "code",
      "source": [
        "y =[int(i) for i in input(\"Enter the numbers:- \").split()]\n",
        "s=0\n",
        "for i in y :\n",
        " s +=i\n",
        "print(s) "
      ],
      "metadata": {
        "colab": {
          "base_uri": "https://localhost:8080/"
        },
        "id": "jbl66ZQ3I_nI",
        "outputId": "190b2004-0820-4710-9996-a909d0f33be9"
      },
      "execution_count": 4,
      "outputs": [
        {
          "output_type": "stream",
          "name": "stdout",
          "text": [
            "Enter the numbers:- 12 14 15\n",
            "41\n"
          ]
        }
      ]
    },
    {
      "cell_type": "code",
      "source": [
        "from functools import reduce\n",
        "z=[int(i) for i in input(\"Enter the values :-\").split()]\n",
        "res= reduce(lambda a,b:a+b,z)\n",
        "print(res)\n"
      ],
      "metadata": {
        "colab": {
          "base_uri": "https://localhost:8080/"
        },
        "id": "P9OtFUpwKOhq",
        "outputId": "70123117-fd24-4072-edf0-27136c5450a7"
      },
      "execution_count": 6,
      "outputs": [
        {
          "output_type": "stream",
          "name": "stdout",
          "text": [
            "Enter the values :-12 45 67 89\n",
            "213\n"
          ]
        }
      ]
    }
  ]
}